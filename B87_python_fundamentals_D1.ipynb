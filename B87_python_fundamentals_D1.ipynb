{
 "cells": [
  {
   "cell_type": "code",
   "execution_count": 2,
   "id": "1607bba4-0264-49f1-90c3-3dbc1a280dc6",
   "metadata": {},
   "outputs": [
    {
     "name": "stdout",
     "output_type": "stream",
     "text": [
      "devaraj\n"
     ]
    }
   ],
   "source": [
    "first = 'deva'\n",
    "last = 'raj'\n",
    "fullname = f\"{first}{last}\"\n",
    "print(fullname)"
   ]
  },
  {
   "cell_type": "code",
   "execution_count": 5,
   "id": "d7ef2934-c26c-4216-a265-9bd2167d7365",
   "metadata": {},
   "outputs": [
    {
     "name": "stdout",
     "output_type": "stream",
     "text": [
      "keep up the good work,devaraj.title()\n"
     ]
    }
   ],
   "source": [
    "message = f\"keep up the good work,{first}{last}.title()\"\n",
    "print(message)"
   ]
  },
  {
   "cell_type": "code",
   "execution_count": null,
   "id": "378f0e93-4eab-47bc-9849-4c333d90c300",
   "metadata": {},
   "outputs": [],
   "source": [
    "# /n --> new line delimiter\n",
    "#/t --> tab delimiter"
   ]
  },
  {
   "cell_type": "code",
   "execution_count": null,
   "id": "84912b9a-b642-4495-9a64-41f05daecc72",
   "metadata": {},
   "outputs": [],
   "source": [
    "#adding withspacess to the string"
   ]
  },
  {
   "cell_type": "code",
   "execution_count": 6,
   "id": "e6584455-8c9e-48cd-852f-0122a7d9d3a2",
   "metadata": {},
   "outputs": [
    {
     "name": "stdout",
     "output_type": "stream",
     "text": [
      "favorate_laguage:pythonejavac++swiftjavascript\n"
     ]
    }
   ],
   "source": [
    "print(\"favorate_laguage:pythonejavac++swiftjavascript\")"
   ]
  },
  {
   "cell_type": "code",
   "execution_count": 8,
   "id": "27e4b3bc-7e23-4420-8fc2-16205fc5fcd6",
   "metadata": {},
   "outputs": [
    {
     "name": "stdout",
     "output_type": "stream",
     "text": [
      " python\n"
     ]
    }
   ],
   "source": [
    "name = \" python\"\n",
    "print(name)"
   ]
  },
  {
   "cell_type": "code",
   "execution_count": 9,
   "id": "c9ccc5a5-b3ba-4cf5-98e6-7eebaa30770b",
   "metadata": {},
   "outputs": [
    {
     "data": {
      "text/plain": [
       "'python'"
      ]
     },
     "execution_count": 9,
     "metadata": {},
     "output_type": "execute_result"
    }
   ],
   "source": [
    "name.lstrip()"
   ]
  },
  {
   "cell_type": "code",
   "execution_count": 11,
   "id": "0d19c3ef-e9c4-40ac-a245-b089ce6ae107",
   "metadata": {},
   "outputs": [
    {
     "name": "stdout",
     "output_type": "stream",
     "text": [
      "python \n"
     ]
    }
   ],
   "source": [
    "name1 = \"python \"\n",
    "print(name1)"
   ]
  },
  {
   "cell_type": "code",
   "execution_count": 12,
   "id": "8dd34cb1-9538-44be-ab43-a6797ca5fd4f",
   "metadata": {},
   "outputs": [
    {
     "data": {
      "text/plain": [
       "'python'"
      ]
     },
     "execution_count": 12,
     "metadata": {},
     "output_type": "execute_result"
    }
   ],
   "source": [
    "name1.rstrip()"
   ]
  },
  {
   "cell_type": "code",
   "execution_count": 15,
   "id": "7e061d47-b052-423b-89a0-ba1fa15206cb",
   "metadata": {},
   "outputs": [
    {
     "name": "stdout",
     "output_type": "stream",
     "text": [
      "  python  \n"
     ]
    }
   ],
   "source": [
    "name2 = \"  python  \"\n",
    "print(name2)"
   ]
  },
  {
   "cell_type": "code",
   "execution_count": 16,
   "id": "1d3406f5-b85d-436e-a7ab-acc32c8ddb74",
   "metadata": {},
   "outputs": [
    {
     "data": {
      "text/plain": [
       "'python'"
      ]
     },
     "execution_count": 16,
     "metadata": {},
     "output_type": "execute_result"
    }
   ],
   "source": [
    "name2.strip()"
   ]
  },
  {
   "cell_type": "code",
   "execution_count": null,
   "id": "0b546041-65d0-4f3d-9644-d5b09c78956a",
   "metadata": {},
   "outputs": [],
   "source": []
  },
  {
   "cell_type": "code",
   "execution_count": null,
   "id": "3c692c32-874a-408a-a300-85997af2adcc",
   "metadata": {},
   "outputs": [],
   "source": []
  },
  {
   "cell_type": "code",
   "execution_count": null,
   "id": "8bb03009-f1f0-4298-8018-0c39a099ba2e",
   "metadata": {},
   "outputs": [],
   "source": []
  },
  {
   "cell_type": "code",
   "execution_count": null,
   "id": "94506078-0190-45ac-a7c8-adc8947880ec",
   "metadata": {},
   "outputs": [],
   "source": []
  },
  {
   "cell_type": "code",
   "execution_count": null,
   "id": "9e6b8f8f-7ec0-437e-ae35-7aefcffb1810",
   "metadata": {},
   "outputs": [],
   "source": []
  },
  {
   "cell_type": "code",
   "execution_count": null,
   "id": "8337b6d7-df68-47e0-9ed4-8fe02920e1b0",
   "metadata": {},
   "outputs": [],
   "source": []
  },
  {
   "cell_type": "code",
   "execution_count": null,
   "id": "290bdb3b-7f9c-488c-a729-40e50e7e7b8f",
   "metadata": {},
   "outputs": [],
   "source": []
  }
 ],
 "metadata": {
  "kernelspec": {
   "display_name": "Python 3 (ipykernel)",
   "language": "python",
   "name": "python3"
  },
  "language_info": {
   "codemirror_mode": {
    "name": "ipython",
    "version": 3
   },
   "file_extension": ".py",
   "mimetype": "text/x-python",
   "name": "python",
   "nbconvert_exporter": "python",
   "pygments_lexer": "ipython3",
   "version": "3.13.5"
  }
 },
 "nbformat": 4,
 "nbformat_minor": 5
}
